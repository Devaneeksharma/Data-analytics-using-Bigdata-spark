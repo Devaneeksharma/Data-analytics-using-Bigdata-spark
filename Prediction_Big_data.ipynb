{
 "cells": [
  {
   "cell_type": "markdown",
   "metadata": {},
   "source": [
    "***\n",
    
    "\n",
    "Analysis to predict wheather there will be rain tommorow or not is been done by using pyspark machine learning tools to visualise and predict the possibility of rainfall in australia.\n",
    "***"
   ]
  },
  {
   "cell_type": "markdown",
   "metadata": {},
   "source": [
    "***\n",
    "# Part-A creating the spark session and loading the data.\n",
    "***"
   ]
  },
  {
   "cell_type": "markdown",
   "metadata": {},
   "source": [
    "***\n",
    "## Step-1: Import the spark session and initialise spark\n",
    "***"
   ]
  },
  {
   "cell_type": "markdown",
   "metadata": {},
   "source": [
    "***\n",
    "###  Importing and Initialising the Pyspark\n",
    "\n",
    "Importing the required library and pyspark instilisation and importing it.\n",
    "***"
   ]
  },
  {
   "cell_type": "code",
   "execution_count": 1,
   "metadata": {},
   "outputs": [],
   "source": [
    "# create entry points to spark\n",
    "from pyspark import SparkContext # Spark\n",
    "from pyspark.sql import SparkSession # Spark SQL\n",
    "#importing the spark funstions\n",
    "from pyspark.sql.functions import *\n",
    "from pyspark.sql.functions import isnan,when ,count, col,avg,udf,collect_list\n",
    "#from pyspark.sql import functions as F\n",
    "# importing counter for count\n",
    "from collections import Counter\n",
    "#importing py spark types for casting\n",
    "from pyspark.sql.types import *\n",
    "# importing for feature selection\n",
    "from pyspark.ml.feature import StringIndexer,VectorAssembler\n",
    "# machine learning algorithms\n",
    "from pyspark.ml.classification import DecisionTreeClassifier,RandomForestClassifier,LogisticRegression,GBTClassifier\n",
    "# evaluators of ml algorithms\n",
    "from pyspark.mllib.evaluation import MulticlassMetrics\n",
    "from pyspark.ml.evaluation import MulticlassClassificationEvaluator\n",
    " \n",
    "# If there is an existing spark context, we will reuse it instead of creating a new context.\n",
    "sc = SparkContext.getOrCreate()\n",
    "\n",
    "# If there is no existing spark context, we now create a new context\n",
    "if (sc is None):\n",
    "    sc = SparkContext(master=\"local[4]\", appName=\"Assignment2\")\n",
    "spark = SparkSession(sparkContext=sc)"
   ]
  },
  {
   "cell_type": "markdown",
   "metadata": {},
   "source": [
    "***\n",
    "## Step-2: Load the Dataset, print schema and count number of entries.\n",
    "***"
   ]
  },
  {
   "cell_type": "code",
   "execution_count": 2,
   "metadata": {},
   "outputs": [
    {
     "name": "stdout",
     "output_type": "stream",
     "text": [
      "Number of records in the Weather AUS: 142193\n"
     ]
    }
   ],
   "source": [
    "# create the spark data frame and load the data\n",
    "weather_data = spark.read.csv(\"weatherAUS.csv\", header=True )\n",
    "print(\"Number of records in the Weather AUS:\",weather_data.count())"
   ]
  },
  {
   "cell_type": "code",
   "execution_count": 3,
   "metadata": {
    "scrolled": true
   },
   "outputs": [
    {
     "name": "stdout",
     "output_type": "stream",
     "text": [
      "root\n",
      " |-- Date: string (nullable = true)\n",
      " |-- Location: string (nullable = true)\n",
      " |-- MinTemp: string (nullable = true)\n",
      " |-- MaxTemp: string (nullable = true)\n",
      " |-- Rainfall: string (nullable = true)\n",
      " |-- Evaporation: string (nullable = true)\n",
      " |-- Sunshine: string (nullable = true)\n",
      " |-- WindGustDir: string (nullable = true)\n",
      " |-- WindGustSpeed: string (nullable = true)\n",
      " |-- WindDir9am: string (nullable = true)\n",
      " |-- WindDir3pm: string (nullable = true)\n",
      " |-- WindSpeed9am: string (nullable = true)\n",
      " |-- WindSpeed3pm: string (nullable = true)\n",
      " |-- Humidity9am: string (nullable = true)\n",
      " |-- Humidity3pm: string (nullable = true)\n",
      " |-- Pressure9am: string (nullable = true)\n",
      " |-- Pressure3pm: string (nullable = true)\n",
      " |-- Cloud9am: string (nullable = true)\n",
      " |-- Cloud3pm: string (nullable = true)\n",
      " |-- Temp9am: string (nullable = true)\n",
      " |-- Temp3pm: string (nullable = true)\n",
      " |-- RainToday: string (nullable = true)\n",
      " |-- RainTomorrow: string (nullable = true)\n",
      "\n"
     ]
    }
   ],
   "source": [
    "# schema for the data set\n",
    "weather_data.printSchema()"
   ]
  },
  {
   "cell_type": "markdown",
   "metadata": {},
   "source": [
    "***\n",
    "# Part-B: Data cleaning and processing.\n",
    "***"
   ]
  },
  {
   "cell_type": "markdown",
   "metadata": {},
   "source": [
    "***\n",
    "## Step-3: Deleting columns from the dataset.\n",
    "***"
   ]
  },
  {
   "cell_type": "code",
   "execution_count": 4,
   "metadata": {},
   "outputs": [
    {
     "name": "stdout",
     "output_type": "stream",
     "text": [
      "+-------+-------+--------+-----------+-------------+----------+----------+------------+------------+-----------+-----------+-----------+-----------+---------+------------+\n",
      "|MinTemp|MaxTemp|Rainfall|WindGustDir|WindGustSpeed|WindDir9am|WindDir3pm|WindSpeed9am|WindSpeed3pm|Humidity9am|Humidity3pm|Pressure9am|Pressure3pm|RainToday|RainTomorrow|\n",
      "+-------+-------+--------+-----------+-------------+----------+----------+------------+------------+-----------+-----------+-----------+-----------+---------+------------+\n",
      "|13.4   |22.9   |0.6     |W          |44           |W         |WNW       |20          |24          |71         |22         |1007.7     |1007.1     |No       |No          |\n",
      "|7.4    |25.1   |0       |WNW        |44           |NNW       |WSW       |4           |22          |44         |25         |1010.6     |1007.8     |No       |No          |\n",
      "|12.9   |25.7   |0       |WSW        |46           |W         |WSW       |19          |26          |38         |30         |1007.6     |1008.7     |No       |No          |\n",
      "|9.2    |28     |0       |NE         |24           |SE        |E         |11          |9           |45         |16         |1017.6     |1012.8     |No       |No          |\n",
      "|17.5   |32.3   |1       |W          |41           |ENE       |NW        |7           |20          |82         |33         |1010.8     |1006       |No       |No          |\n",
      "|14.6   |29.7   |0.2     |WNW        |56           |W         |W         |19          |24          |55         |23         |1009.2     |1005.4     |No       |No          |\n",
      "|14.3   |25     |0       |W          |50           |SW        |W         |20          |24          |49         |19         |1009.6     |1008.2     |No       |No          |\n",
      "|7.7    |26.7   |0       |W          |35           |SSE       |W         |6           |17          |48         |19         |1013.4     |1010.1     |No       |No          |\n",
      "|9.7    |31.9   |0       |NNW        |80           |SE        |NW        |7           |28          |42         |9          |1008.9     |1003.6     |No       |Yes         |\n",
      "|13.1   |30.1   |1.4     |W          |28           |S         |SSE       |15          |11          |58         |27         |1007       |1005.7     |Yes      |No          |\n",
      "+-------+-------+--------+-----------+-------------+----------+----------+------------+------------+-----------+-----------+-----------+-----------+---------+------------+\n",
      "only showing top 10 rows\n",
      "\n"
     ]
    }
   ],
   "source": [
    "# dropping the columns which are not needed for predictions\n",
    "drop_col=['Date','Location','Evaporation','Sunshine','Cloud9am','Cloud3pm','Temp9am','Temp3pm']\n",
    "#drooping the column in the list 'drop_col'\n",
    "weather_df = weather_data.drop(*drop_col)\n",
    "weather_df.show(10,truncate=False)"
   ]
  },
  {
   "cell_type": "markdown",
   "metadata": {},
   "source": [
    "***\n",
    "## Step-4: Print the number of missing data in each column.\n",
    "***"
   ]
  },
  {
   "cell_type": "code",
   "execution_count": 5,
   "metadata": {},
   "outputs": [
    {
     "name": "stdout",
     "output_type": "stream",
     "text": [
      "+-------+-------+--------+-----------+-------------+----------+----------+------------+------------+-----------+-----------+-----------+-----------+---------+------------+\n",
      "|MinTemp|MaxTemp|Rainfall|WindGustDir|WindGustSpeed|WindDir9am|WindDir3pm|WindSpeed9am|WindSpeed3pm|Humidity9am|Humidity3pm|Pressure9am|Pressure3pm|RainToday|RainTomorrow|\n",
      "+-------+-------+--------+-----------+-------------+----------+----------+------------+------------+-----------+-----------+-----------+-----------+---------+------------+\n",
      "|    637|    322|    1406|       9330|         9270|     10013|      3778|        1348|        2630|       1774|       3610|      14014|      13981|     1406|           0|\n",
      "+-------+-------+--------+-----------+-------------+----------+----------+------------+------------+-----------+-----------+-----------+-----------+---------+------------+\n",
      "\n"
     ]
    }
   ],
   "source": [
    "# checking for the 'NA' value in the each column and counting it.\n",
    "weather_df.select([count(when(col(c)=='NA' , c)).alias(c) for c in weather_df.columns]).show()"
   ]
  },
  {
   "cell_type": "markdown",
   "metadata": {},
   "source": [
    "## Step-5: Fill the missing value with the Average value and Maximum occurrence."
   ]
  },
  {
   "cell_type": "markdown",
   "metadata": {
    "scrolled": true
   },
   "source": [
    "***\n",
    "### Identifying the wheather column is numeric or categorical variable\n",
    "***"
   ]
  },
  {
   "cell_type": "code",
   "execution_count": 6,
   "metadata": {},
   "outputs": [
    {
     "name": "stdout",
     "output_type": "stream",
     "text": [
      "Numerical columns: ['MinTemp', 'MaxTemp', 'Rainfall', 'WindGustSpeed', 'WindSpeed9am', 'WindSpeed3pm', 'Humidity9am', 'Humidity3pm', 'Pressure9am', 'Pressure3pm']\n",
      "Categorical columns: ['WindGustDir', 'WindDir9am', 'WindDir3pm', 'RainToday', 'RainTomorrow']\n"
     ]
    }
   ],
   "source": [
    "# list for numric column\n",
    "numeric_columns=[]\n",
    "#list for category column\n",
    "category_column=[] \n",
    "# cating the column to interger\n",
    "val= weather_df.select([col(c).cast('int').isNotNull().alias(c) for c in weather_df.columns])\n",
    "\n",
    "# count if all the rows has been casted.\n",
    "val = val.select([count(when(col(c).contains('true'),'val')).alias(c) for c in val.columns])\n",
    "column_type = val.collect()\n",
    "i=0\n",
    "# if column has all the null value it means it is categorical variable\n",
    "for c in val.columns:\n",
    "   \n",
    "    if column_type[0][i]==0:\n",
    "        category_column.append(c)\n",
    "    else:\n",
    "        numeric_columns.append(c)\n",
    "    i+=1\n",
    "\n",
    "print(\"Numerical columns:\",numeric_columns)\n",
    "print(\"Categorical columns:\",category_column)"
   ]
  },
  {
   "cell_type": "markdown",
   "metadata": {
    "scrolled": false
   },
   "source": [
    "***\n",
    "### Finding the average of all the numeric columns.\n",
    "Here average of all the columns is calculated and added to dict 'new_d'\n",
    "***"
   ]
  },
  {
   "cell_type": "code",
   "execution_count": 7,
   "metadata": {
    "scrolled": true
   },
   "outputs": [],
   "source": [
    "new_d={}\n",
    "# data frame having the average of all the nnumeroc columns\n",
    "mean_df = weather_df.select([avg(c).alias(c) for c in numeric_columns])\n",
    "i=0\n",
    "for c in mean_df.columns:\n",
    "    # adding to dict\n",
    "    new_d[c]=mean_df.collect()[0][i]\n",
    "    i+=1\n"
   ]
  },
  {
   "cell_type": "markdown",
   "metadata": {},
   "source": [
    "***\n",
    "### Filling the missing value with average for numerical column,\n",
    "mean of the columns is calculated and all the values in the numerical columns is replaced by mean of that column.\n",
    "***"
   ]
  },
  {
   "cell_type": "code",
   "execution_count": 8,
   "metadata": {
    "scrolled": true
   },
   "outputs": [],
   "source": [
    "# all the 'NA' values in the columns in been replaced mean of the columns.\n",
    "main_df = weather_df.withColumn('MinTemp',regexp_replace('MinTemp','NA',str(new_d['MinTemp'])))\\\n",
    ".withColumn('MaxTemp',regexp_replace('MaxTemp','NA',str(new_d['MaxTemp'])))\\\n",
    ".withColumn('Rainfall',regexp_replace('Rainfall','NA',str(new_d['Rainfall'])))\\\n",
    ".withColumn('WindGustSpeed',regexp_replace('WindGustSpeed','NA',str(new_d['WindGustSpeed'])))\\\n",
    ".withColumn('WindSpeed9am',regexp_replace('WindSpeed9am','NA',str(new_d['WindSpeed9am'])))\\\n",
    ".withColumn('WindSpeed3pm',regexp_replace('WindSpeed3pm','NA',str(new_d['WindSpeed3pm'])))\\\n",
    ".withColumn('Humidity9am',regexp_replace('Humidity9am','NA',str(new_d['Humidity9am'])))\\\n",
    ".withColumn('Humidity3pm',regexp_replace('Humidity3pm','NA',str(new_d['Humidity3pm'])))\\\n",
    ".withColumn('Pressure9am',regexp_replace('Pressure9am','NA',str(new_d['Pressure9am'])))\\\n",
    ".withColumn('Pressure3pm',regexp_replace('Pressure3pm','NA',str(new_d['Pressure3pm'])))\n"
   ]
  },
  {
   "cell_type": "markdown",
   "metadata": {},
   "source": [
    "***\n",
    "### Finding the Mode value of the categorical column.\n",
    "***"
   ]
  },
  {
   "cell_type": "code",
   "execution_count": 9,
   "metadata": {
    "scrolled": true
   },
   "outputs": [
    {
     "name": "stdout",
     "output_type": "stream",
     "text": [
      "+-----------+----------+----------+---------+------------+\n",
      "|WindGustDir|WindDir9am|WindDir3pm|RainToday|RainTomorrow|\n",
      "+-----------+----------+----------+---------+------------+\n",
      "|          W|         N|        SE|       No|          No|\n",
      "+-----------+----------+----------+---------+------------+\n",
      "\n"
     ]
    }
   ],
   "source": [
    "# creating the user defined funcion to get the most frequent words\n",
    "high_freq =udf(lambda x: Counter(x).most_common(1)[0][0]) \n",
    "\n",
    "# getting the most frequent value of each column\n",
    "freq_val=[high_freq(collect_list(col)).alias(col) for col in category_column] \n",
    "\n",
    "main_df.groupBy().agg(*freq_val).show()"
   ]
  },
  {
   "cell_type": "code",
   "execution_count": 10,
   "metadata": {},
   "outputs": [],
   "source": [
    "# getting the mode for 'windGustDir'\n",
    "high_freq_WindGustDir =str(main_df.groupBy().agg(*freq_val).collect().pop()['WindGustDir'])\n",
    "# getting the mode for 'windGustDir9am'\n",
    "high_freq_WindDir9am =str(main_df.groupBy().agg(*freq_val).collect().pop()['WindDir9am'])\n",
    "# getting the mode for 'windGustDir3pm'\n",
    "high_freq_WindDir3pm=str(main_df.groupBy().agg(*freq_val).collect().pop()['WindDir3pm'])\n",
    "# getting the mode for 'RainToday'\n",
    "high_freq_RainToday=str(main_df.groupBy().agg(*freq_val).collect().pop()['RainToday'])"
   ]
  },
  {
   "cell_type": "markdown",
   "metadata": {},
   "source": [
    "***\n",
    "### Replacing all the 'NA' value in the columns with the mode\n",
    "***"
   ]
  },
  {
   "cell_type": "code",
   "execution_count": 11,
   "metadata": {},
   "outputs": [],
   "source": [
    "# replacing all the 'NA' value in the categorical columns with the mode\n",
    "main_df=main_df.withColumn('WindGustDir',regexp_replace('WindGustDir','NA',high_freq_WindGustDir))\\\n",
    ".withColumn('RainToday',regexp_replace('RainToday','NA',high_freq_RainToday))\\\n",
    ".withColumn('WindDir9am',regexp_replace('WindDir9am','NA',high_freq_WindDir9am))\\\n",
    ".withColumn('WindDir3pm',regexp_replace('WindDir3pm','NA',high_freq_WindDir3pm))"
   ]
  },
  {
   "cell_type": "markdown",
   "metadata": {},
   "source": [
    "***\n",
    "### Checking the Dataframe after imputation for the null value.\n",
    "***"
   ]
  },
  {
   "cell_type": "code",
   "execution_count": 12,
   "metadata": {
    "scrolled": true
   },
   "outputs": [
    {
     "name": "stdout",
     "output_type": "stream",
     "text": [
      "+-------+-------+--------+-----------+-------------+----------+----------+------------+------------+-----------+-----------+-----------+-----------+---------+------------+\n",
      "|MinTemp|MaxTemp|Rainfall|WindGustDir|WindGustSpeed|WindDir9am|WindDir3pm|WindSpeed9am|WindSpeed3pm|Humidity9am|Humidity3pm|Pressure9am|Pressure3pm|RainToday|RainTomorrow|\n",
      "+-------+-------+--------+-----------+-------------+----------+----------+------------+------------+-----------+-----------+-----------+-----------+---------+------------+\n",
      "|      0|      0|       0|          0|            0|         0|         0|           0|           0|          0|          0|          0|          0|        0|           0|\n",
      "+-------+-------+--------+-----------+-------------+----------+----------+------------+------------+-----------+-----------+-----------+-----------+---------+------------+\n",
      "\n"
     ]
    }
   ],
   "source": [
    "# checking if there are any null value in the dataframe\n",
    "main_df.select([count(when(col(c)=='NA', c)).alias(c) for c in main_df.columns]).show()"
   ]
  },
  {
   "cell_type": "markdown",
   "metadata": {},
   "source": [
    "***\n",
    "## Step-6 Data Tranformation.\n",
    "***"
   ]
  },
  {
   "cell_type": "markdown",
   "metadata": {},
   "source": [
    "***\n",
    "### Typecasting the numeric column to the double.\n",
    "All the numeric columns are converted to double.\n",
    "***"
   ]
  },
  {
   "cell_type": "code",
   "execution_count": 13,
   "metadata": {},
   "outputs": [],
   "source": [
    "#looping through all the numerical column and casting them to double.\n",
    "for c in numeric_columns:\n",
    "    main_df = main_df.withColumn(c, main_df[c].cast(DoubleType()))"
   ]
  },
  {
   "cell_type": "code",
   "execution_count": 14,
   "metadata": {},
   "outputs": [
    {
     "name": "stdout",
     "output_type": "stream",
     "text": [
      "root\n",
      " |-- MinTemp: double (nullable = true)\n",
      " |-- MaxTemp: double (nullable = true)\n",
      " |-- Rainfall: double (nullable = true)\n",
      " |-- WindGustDir: string (nullable = true)\n",
      " |-- WindGustSpeed: double (nullable = true)\n",
      " |-- WindDir9am: string (nullable = true)\n",
      " |-- WindDir3pm: string (nullable = true)\n",
      " |-- WindSpeed9am: double (nullable = true)\n",
      " |-- WindSpeed3pm: double (nullable = true)\n",
      " |-- Humidity9am: double (nullable = true)\n",
      " |-- Humidity3pm: double (nullable = true)\n",
      " |-- Pressure9am: double (nullable = true)\n",
      " |-- Pressure3pm: double (nullable = true)\n",
      " |-- RainToday: string (nullable = true)\n",
      " |-- RainTomorrow: string (nullable = true)\n",
      "\n"
     ]
    }
   ],
   "source": [
    "main_df.printSchema()"
   ]
  },
  {
   "cell_type": "markdown",
   "metadata": {},
   "source": [
    "***\n",
    "### Using String Indexer to convert the non-numerical columns to the numeric values.\n",
    "***"
   ]
  },
  {
   "cell_type": "code",
   "execution_count": 15,
   "metadata": {},
   "outputs": [],
   "source": [
    "# looping through the non-numeric column and changing them to numeric value\n",
    "for c in category_column:\n",
    "    index = StringIndexer(inputCol=c,outputCol= c+'_index')\n",
    "    main_df = index.fit(main_df).transform(main_df)"
   ]
  },
  {
   "cell_type": "code",
   "execution_count": 16,
   "metadata": {
    "scrolled": false
   },
   "outputs": [
    {
     "name": "stdout",
     "output_type": "stream",
     "text": [
      "root\n",
      " |-- MinTemp: double (nullable = true)\n",
      " |-- MaxTemp: double (nullable = true)\n",
      " |-- Rainfall: double (nullable = true)\n",
      " |-- WindGustSpeed: double (nullable = true)\n",
      " |-- WindSpeed9am: double (nullable = true)\n",
      " |-- WindSpeed3pm: double (nullable = true)\n",
      " |-- Humidity9am: double (nullable = true)\n",
      " |-- Humidity3pm: double (nullable = true)\n",
      " |-- Pressure9am: double (nullable = true)\n",
      " |-- Pressure3pm: double (nullable = true)\n",
      " |-- WindGustDir_index: double (nullable = false)\n",
      " |-- WindDir9am_index: double (nullable = false)\n",
      " |-- WindDir3pm_index: double (nullable = false)\n",
      " |-- RainToday_index: double (nullable = false)\n",
      " |-- RainTomorrow_index: double (nullable = false)\n",
      "\n"
     ]
    }
   ],
   "source": [
    "# dropping the non-numeric column\n",
    "main_df = main_df.drop(*category_column)\n",
    "# final dataframe schema\n",
    "main_df.printSchema()"
   ]
  },
  {
   "cell_type": "markdown",
   "metadata": {},
   "source": [
    "***\n",
    "## Creating the feature vector and devide the dataset.\n",
    "Using the vector assembler to featurized the dataframe and then keeping only those column which will be used for analysis. here, Traget which we will be predicting 'RainToday_index','RainTomorrow_index' are not involve in the vectorassembler or has been featurized.\n",
    "***"
   ]
  },
  {
   "cell_type": "code",
   "execution_count": 17,
   "metadata": {
    "scrolled": true
   },
   "outputs": [
    {
     "name": "stdout",
     "output_type": "stream",
     "text": [
      "+---------------+------------------+-------------------------------------------------------------------------------------------+\n",
      "|RainToday_index|RainTomorrow_index|features                                                                                   |\n",
      "+---------------+------------------+-------------------------------------------------------------------------------------------+\n",
      "|0.0            |0.0               |[13.4,22.9,0.6,44.0,20.0,24.0,71.0,22.0,1007.7,1007.1,0.0,6.0,7.0]                         |\n",
      "|0.0            |0.0               |[7.4,25.1,0.0,44.0,4.0,22.0,44.0,25.0,1010.6,1007.8,9.0,9.0,3.0]                           |\n",
      "|0.0            |0.0               |[12.9,25.7,0.0,46.0,19.0,26.0,38.0,30.0,1007.6,1008.7,6.0,6.0,3.0]                         |\n",
      "|0.0            |0.0               |[9.2,28.0,0.0,24.0,11.0,9.0,45.0,16.0,1017.6,1012.8,13.0,1.0,10.0]                         |\n",
      "|0.0            |0.0               |[17.5,32.3,1.0,41.0,7.0,20.0,82.0,33.0,1010.8,1006.0,0.0,10.0,8.0]                         |\n",
      "|0.0            |0.0               |[14.6,29.7,0.2,56.0,19.0,24.0,55.0,23.0,1009.2,1005.4,9.0,6.0,1.0]                         |\n",
      "|0.0            |0.0               |[14.3,25.0,0.0,50.0,20.0,24.0,49.0,19.0,1009.6,1008.2,0.0,7.0,1.0]                         |\n",
      "|0.0            |0.0               |[7.7,26.7,0.0,35.0,6.0,17.0,48.0,19.0,1013.4,1010.1,0.0,3.0,1.0]                           |\n",
      "|0.0            |1.0               |[9.7,31.9,0.0,80.0,7.0,28.0,42.0,9.0,1008.9,1003.6,14.0,1.0,8.0]                           |\n",
      "|1.0            |0.0               |[13.1,30.1,1.4,28.0,15.0,11.0,58.0,27.0,1007.0,1005.7,0.0,5.0,5.0]                         |\n",
      "|0.0            |1.0               |[13.4,30.4,0.0,30.0,17.0,6.0,48.0,22.0,1011.8,1008.7,3.0,3.0,9.0]                          |\n",
      "|1.0            |1.0               |[15.9,21.7,2.2,31.0,15.0,13.0,89.0,91.0,1010.5,1004.2,15.0,12.0,14.0]                      |\n",
      "|1.0            |1.0               |[15.9,18.6,15.6,61.0,28.0,28.0,76.0,93.0,994.3,993.0,0.0,9.0,13.0]                         |\n",
      "|1.0            |0.0               |[12.6,21.0,3.6,44.0,24.0,20.0,65.0,43.0,1001.2,1001.8,7.0,6.0,12.0]                        |\n",
      "|0.0            |0.0               |[9.8,27.7,2.3499740743107442,50.0,14.001988000994,22.0,50.0,28.0,1013.4,1010.3,9.0,0.0,7.0]|\n",
      "|0.0            |1.0               |[14.1,20.9,0.0,22.0,11.0,9.0,69.0,82.0,1012.2,1010.4,11.0,13.0,10.0]                       |\n",
      "|1.0            |1.0               |[13.5,22.9,16.8,63.0,6.0,20.0,80.0,65.0,1005.8,1002.2,0.0,0.0,7.0]                         |\n",
      "|1.0            |0.0               |[11.2,22.5,10.6,43.0,24.0,17.0,47.0,32.0,1009.4,1009.7,4.0,15.0,4.0]                       |\n",
      "|0.0            |0.0               |[9.8,25.6,0.0,26.0,17.0,6.0,45.0,26.0,1019.2,1017.1,4.0,1.0,13.0]                          |\n",
      "|0.0            |0.0               |[11.5,29.3,0.0,24.0,9.0,9.0,56.0,28.0,1019.3,1014.8,5.0,1.0,0.0]                           |\n",
      "+---------------+------------------+-------------------------------------------------------------------------------------------+\n",
      "only showing top 20 rows\n",
      "\n"
     ]
    }
   ],
   "source": [
    "# passing the parameters to vector assembler \n",
    "vec_assembler = VectorAssembler(inputCols=['MinTemp','MaxTemp','Rainfall','WindGustSpeed','WindSpeed9am','WindSpeed3pm',\\\n",
    "                                  'Humidity9am','Humidity3pm','Pressure9am','Pressure3pm','WindGustDir_index',\\\n",
    "                                 'WindDir9am_index','WindDir3pm_index'],\n",
    "                       outputCol=\"features\")\n",
    "# tranforming the main dataframe\n",
    "featurized_df = vec_assembler.transform(main_df)\n",
    "# dropping the column and only keeping relevant column\n",
    "featurized_df = featurized_df.drop('MinTemp','MaxTemp','Rainfall','WindGustSpeed','WindSpeed9am','WindSpeed3pm',\\\n",
    "                                  'Humidity9am','Humidity3pm','Pressure9am','Pressure3pm','WindGustDir_index',\\\n",
    "                                 'WindDir9am_index','WindDir3pm_index')\n",
    "featurized_df.show(truncate=False)"
   ]
  },
  {
   "cell_type": "markdown",
   "metadata": {},
   "source": [
    "***\n",
    "### Devide the dataframe into 70% train an 30% test dataset.\n",
    "***"
   ]
  },
  {
   "cell_type": "code",
   "execution_count": 18,
   "metadata": {
    "scrolled": true
   },
   "outputs": [
    {
     "name": "stdout",
     "output_type": "stream",
     "text": [
      "+---------------+------------------+-------------------------------------------------------------------------------------------------------------+\n",
      "|RainToday_index|RainTomorrow_index|features                                                                                                     |\n",
      "+---------------+------------------+-------------------------------------------------------------------------------------------------------------+\n",
      "|0.0            |0.0               |(13,[0,1,3,6,7,8,9],[-0.5,20.0,13.0,97.0,48.0,1022.8,1019.4])                                                |\n",
      "|0.0            |0.0               |(13,[0,1,3,6,7,8,9],[-0.2,22.9,43.0,81.0,33.0,1018.6,1013.2])                                                |\n",
      "|0.0            |0.0               |(13,[0,1,3,6,7,8,9],[0.6,19.2,31.0,79.0,38.0,1025.9,1021.2])                                                 |\n",
      "|0.0            |0.0               |(13,[0,1,3,6,7,8,9],[0.9,15.0,13.0,100.0,59.0,1026.2,1022.9])                                                |\n",
      "|0.0            |0.0               |(13,[0,1,3,6,7,8,9],[3.6,16.3,39.98429165757619,72.0,54.0,1017.6537584159615,1015.2582035378894])            |\n",
      "|0.0            |0.0               |(13,[0,1,3,6,7,8,9],[4.1,18.2,39.98429165757619,80.0,48.0,1017.6537584159615,1015.2582035378894])            |\n",
      "|0.0            |0.0               |(13,[0,1,3,6,7,8,9],[5.0,23.2267841912725,39.98429165757619,89.0,55.0,1017.6537584159615,1015.2582035378894])|\n",
      "|0.0            |0.0               |(13,[0,1,3,6,7,8,9],[5.3,11.5,31.0,94.0,77.0,1017.6537584159615,1015.2582035378894])                         |\n",
      "|0.0            |0.0               |(13,[0,1,3,6,7,8,9],[5.3,20.1,39.98429165757619,75.0,62.0,1017.6537584159615,1015.2582035378894])            |\n",
      "|0.0            |0.0               |(13,[0,1,3,6,7,8,9],[5.4,19.8,39.98429165757619,75.0,38.0,1017.6537584159615,1015.2582035378894])            |\n",
      "|0.0            |0.0               |(13,[0,1,3,6,7,8,9],[5.6,18.2,39.98429165757619,78.0,50.0,1017.6537584159615,1015.2582035378894])            |\n",
      "|0.0            |0.0               |(13,[0,1,3,6,7,8,9],[6.2,20.4,39.98429165757619,82.0,67.0,1017.6537584159615,1015.2582035378894])            |\n",
      "|0.0            |0.0               |(13,[0,1,3,6,7,8,9],[6.3,22.3,39.98429165757619,95.0,47.0,1017.6537584159615,1015.2582035378894])            |\n",
      "|0.0            |0.0               |(13,[0,1,3,6,7,8,9],[7.2,18.8,39.98429165757619,100.0,58.0,1017.6537584159615,1015.2582035378894])           |\n",
      "|0.0            |0.0               |(13,[0,1,3,6,7,8,9],[7.4,21.2,39.98429165757619,72.0,49.0,1017.6537584159615,1015.2582035378894])            |\n",
      "|0.0            |0.0               |(13,[0,1,3,6,7,8,9],[7.4,23.8,39.98429165757619,60.0,38.0,1017.6537584159615,1015.2582035378894])            |\n",
      "|0.0            |0.0               |(13,[0,1,3,6,7,8,9],[7.5,19.5,39.98429165757619,85.0,59.0,1017.6537584159615,1015.2582035378894])            |\n",
      "|0.0            |0.0               |(13,[0,1,3,6,7,8,9],[7.6,24.5,39.98429165757619,96.0,51.0,1017.6537584159615,1015.2582035378894])            |\n",
      "|0.0            |0.0               |(13,[0,1,3,6,7,8,9],[7.7,19.2,17.0,99.0,56.0,1006.6,1004.6])                                                 |\n",
      "|0.0            |0.0               |(13,[0,1,3,6,7,8,9],[7.9,19.8,39.98429165757619,92.0,72.0,1017.6537584159615,1015.2582035378894])            |\n",
      "+---------------+------------------+-------------------------------------------------------------------------------------------------------------+\n",
      "only showing top 20 rows\n",
      "\n"
     ]
    }
   ],
   "source": [
    "# devideing the main dataframe in 70-30 ratio\n",
    "(train_data,test_data)= featurized_df.randomSplit([0.7, 0.3], seed = 100)\n",
    "train_data.show(truncate=False)"
   ]
  },
  {
   "cell_type": "markdown",
   "metadata": {},
   "source": [
    "***\n",
    "# Part-C Apply Machine Learning Algorithms\n",
    "***"
   ]
  },
  {
   "cell_type": "markdown",
   "metadata": {},
   "source": [
    "***\n",
    "## Step-8  Apply machine learning alogorithms like DecisionTreeClassifier, RandomForestClassifier ,LogisticRegression, GBTClassifier.\n",
    "***"
   ]
  },
  {
   "cell_type": "markdown",
   "metadata": {},
   "source": [
    "***\n",
    "### DecisionTress Classifier:\n",
    "\n",
    "***"
   ]
  },
  {
   "cell_type": "code",
   "execution_count": 19,
   "metadata": {
    "scrolled": true
   },
   "outputs": [
    {
     "name": "stdout",
     "output_type": "stream",
     "text": [
      "+----------+------------------+--------------------+\n",
      "|prediction|RainTomorrow_index|            features|\n",
      "+----------+------------------+--------------------+\n",
      "|       0.0|               0.0|(13,[0,1,3,6,7,8,...|\n",
      "|       0.0|               0.0|(13,[0,1,3,6,7,8,...|\n",
      "|       0.0|               0.0|(13,[0,1,3,6,7,8,...|\n",
      "|       0.0|               0.0|(13,[0,1,3,6,7,8,...|\n",
      "|       0.0|               0.0|(13,[0,1,3,6,7,8,...|\n",
      "+----------+------------------+--------------------+\n",
      "only showing top 5 rows\n",
      "\n",
      "Test Error = 0.164723 \n",
      "Accuracy for the Decision Tree 0.8352766588933644\n"
     ]
    }
   ],
   "source": [
    "# Train a DecisionTree model.\n",
    "dt = DecisionTreeClassifier(labelCol=\"RainTomorrow_index\", featuresCol=\"features\")\n",
    "\n",
    "# Train model.  \n",
    "model = dt.fit(train_data)\n",
    "\n",
    "# Make predictions.\n",
    "predictions_decisiontree = model.transform(test_data)\n",
    "\n",
    "# Select example rows to display.\n",
    "predictions_decisiontree.select(\"prediction\", \"RainTomorrow_index\", \"features\").show(5)\n",
    "\n",
    "# Select (prediction, true label) and compute test error\n",
    "evaluator = MulticlassClassificationEvaluator(\n",
    "    labelCol=\"RainTomorrow_index\", predictionCol=\"prediction\", metricName=\"accuracy\")\n",
    "accuracy_decisiontree = evaluator.evaluate(predictions_decisiontree)\n",
    "print(\"Test Error = %g \" % (1.0 - accuracy_decisiontree))\n",
    "print(\"Accuracy for the Decision Tree\", accuracy_decisiontree)"
   ]
  },
  {
   "cell_type": "markdown",
   "metadata": {},
   "source": [
    "***\n",
    "### RainForest Classifier. \n",
    "***"
   ]
  },
  {
   "cell_type": "code",
   "execution_count": 20,
   "metadata": {
    "scrolled": true
   },
   "outputs": [
    {
     "name": "stdout",
     "output_type": "stream",
     "text": [
      "+------------------+--------------------+\n",
      "|RainTomorrow_index|            features|\n",
      "+------------------+--------------------+\n",
      "|               0.0|(13,[0,1,3,6,7,8,...|\n",
      "|               0.0|(13,[0,1,3,6,7,8,...|\n",
      "|               0.0|(13,[0,1,3,6,7,8,...|\n",
      "|               0.0|(13,[0,1,3,6,7,8,...|\n",
      "|               0.0|(13,[0,1,3,6,7,8,...|\n",
      "+------------------+--------------------+\n",
      "only showing top 5 rows\n",
      "\n",
      "Test Error = 0.166372\n",
      "Accuracy for Random Forest 0.8336277766000048\n"
     ]
    }
   ],
   "source": [
    "rf = RandomForestClassifier(labelCol=\"RainTomorrow_index\", featuresCol=\"features\", numTrees=10)\n",
    "\n",
    "\n",
    "# Train model. \n",
    "model = rf.fit(train_data)\n",
    "\n",
    "# Make predictions.\n",
    "predictions_rainforest = model.transform(test_data)\n",
    "\n",
    "# Select example rows to display.\n",
    "predictions_rainforest.select(\"RainTomorrow_index\", \"features\").show(5)\n",
    "\n",
    "# Select (prediction, true label) and compute test error\n",
    "evaluator = MulticlassClassificationEvaluator(\n",
    "    labelCol=\"RainTomorrow_index\", predictionCol=\"prediction\", metricName=\"accuracy\")\n",
    "accuracy_rainforest = evaluator.evaluate(predictions_rainforest)\n",
    "print(\"Test Error = %g\" % (1.0 - accuracy_rainforest))\n",
    "print(\"Accuracy for Random Forest\",accuracy_rainforest)\n"
   ]
  },
  {
   "cell_type": "markdown",
   "metadata": {},
   "source": [
    "***\n",
    "### LogisticRegression.\n",
    "***"
   ]
  },
  {
   "cell_type": "code",
   "execution_count": 21,
   "metadata": {},
   "outputs": [
    {
     "name": "stdout",
     "output_type": "stream",
     "text": [
      "+----------+------------------+--------------------+\n",
      "|prediction|RainTomorrow_index|            features|\n",
      "+----------+------------------+--------------------+\n",
      "|       0.0|               0.0|(13,[0,1,3,6,7,8,...|\n",
      "|       0.0|               0.0|(13,[0,1,3,6,7,8,...|\n",
      "|       0.0|               0.0|(13,[0,1,3,6,7,8,...|\n",
      "|       0.0|               0.0|(13,[0,1,3,6,7,8,...|\n",
      "|       0.0|               0.0|(13,[0,1,3,6,7,8,...|\n",
      "+----------+------------------+--------------------+\n",
      "only showing top 5 rows\n",
      "\n",
      "Test Error = 0.191058\n",
      "Accuracy of logistic regression 0.8089416531222764\n"
     ]
    }
   ],
   "source": [
    "lr = LogisticRegression(maxIter=10, featuresCol='features',labelCol='RainTomorrow_index')\n",
    "\n",
    "# Fit the model\n",
    "lrModel = lr.fit(train_data)\n",
    "predictions_logistic=lrModel.transform(test_data)\n",
    "predictions_logistic.select(\"prediction\", \"RainTomorrow_index\", \"features\").show(5)\n",
    "\n",
    "# Select (prediction, true label) and compute test error\n",
    "evaluator = MulticlassClassificationEvaluator(\n",
    "    labelCol=\"RainTomorrow_index\", predictionCol=\"prediction\", metricName=\"accuracy\")\n",
    "accuracy_logistic = evaluator.evaluate(predictions_logistic)\n",
    "print(\"Test Error = %g\" % (1.0 - accuracy_logistic))\n",
    "print(\"Accuracy of logistic regression\",accuracy_logistic)\n",
    "\n"
   ]
  },
  {
   "cell_type": "markdown",
   "metadata": {},
   "source": [
    "***\n",
    "### Gradient Boost Trees Classifier.\n",
    "***"
   ]
  },
  {
   "cell_type": "code",
   "execution_count": 22,
   "metadata": {},
   "outputs": [
    {
     "name": "stdout",
     "output_type": "stream",
     "text": [
      "+----------+------------------+--------------------+\n",
      "|prediction|RainTomorrow_index|            features|\n",
      "+----------+------------------+--------------------+\n",
      "|       0.0|               0.0|(13,[0,1,3,6,7,8,...|\n",
      "|       0.0|               0.0|(13,[0,1,3,6,7,8,...|\n",
      "|       0.0|               0.0|(13,[0,1,3,6,7,8,...|\n",
      "|       0.0|               0.0|(13,[0,1,3,6,7,8,...|\n",
      "|       0.0|               0.0|(13,[0,1,3,6,7,8,...|\n",
      "+----------+------------------+--------------------+\n",
      "only showing top 5 rows\n",
      "\n",
      "Test Error = 0.159824\n",
      "Accuracy of Gradient boost 0.8401761948507761\n"
     ]
    }
   ],
   "source": [
    "\n",
    "# Train a GBT model.\n",
    "gbt = GBTClassifier(labelCol=\"RainTomorrow_index\", featuresCol=\"features\", maxIter=10)\n",
    "\n",
    "# Train model.  This also runs the indexers.\n",
    "model = gbt.fit(train_data)\n",
    "\n",
    "# Make predictions.\n",
    "predictions_gradientboost = model.transform(test_data)\n",
    "\n",
    "# Select example rows to display.\n",
    "predictions_gradientboost.select(\"prediction\", \"RainTomorrow_index\", \"features\").show(5)\n",
    "\n",
    "# Select (prediction, true label) and compute test error\n",
    "evaluator = MulticlassClassificationEvaluator(\n",
    "    labelCol=\"RainTomorrow_index\", predictionCol=\"prediction\", metricName=\"accuracy\")\n",
    "accuracy_gradientboost = evaluator.evaluate(predictions_gradientboost)\n",
    "print(\"Test Error = %g\" % (1.0 - accuracy_gradientboost))\n",
    "print('Accuracy of Gradient boost',accuracy_gradientboost)"
   ]
  },
  {
   "cell_type": "markdown",
   "metadata": {},
   "source": [
    "***\n",
    "### Comapring the accuracy of the 'Decion Tress','Random Forest','Logistic','Gradient Boost' machine learning algorithms.\n",
    "\n",
    "Bar chart shows that gradient boost have the highest accuracy and Logisticregresser has the lowest accuracy.\n",
    "\n",
    "***"
   ]
  },
  {
   "cell_type": "code",
   "execution_count": 23,
   "metadata": {},
   "outputs": [
    {
     "data": {
      "image/png": "[encoded data removed]",
      "text/plain": [
       "<Figure size 864x576 with 1 Axes>"
      ]
     },
     "metadata": {},
     "output_type": "display_data"
    }
   ],
   "source": [
    "# importing the matplot library\n",
    "import matplotlib.pyplot as plt\n",
    "%matplotlib inline\n",
    "#using ggplot\n",
    "plt.style.use('ggplot')\n",
    "# defining the x axis\n",
    "x = ['Decion Tress','Random Forest','Logistic','Gradient Boost']\n",
    "\n",
    "# adding the y axis\n",
    "accuracy = [accuracy_decisiontree,accuracy_rainforest,accuracy_logistic,accuracy_gradientboost]\n",
    "\n",
    "# refactoring the y axis for %\n",
    "accuracy[:]=[i*100 for i in accuracy]\n",
    "x_pos = [i for i, _ in enumerate(x)]\n",
    "\n",
    "# setting the figure size\n",
    "plt.figure(figsize=(12,8))\n",
    "\n",
    "#ploting the bar chart\n",
    "bar=plt.bar(x_pos, accuracy, color='green')\n",
    "\n",
    "# adding the text to the bar chart\n",
    "for i in bar:\n",
    "    plt.text(i.get_x(),i.get_height(),str(i.get_height()),fontweight='bold')\n",
    "    \n",
    "plt.xlabel(\"Machine Learning Algorithms\")\n",
    "plt.ylabel(\"Accuracy Percentage\")\n",
    "plt.title(\"Accuracy comparision of Diffrent ML Algorithms\")\n",
    "plt.xticks(x_pos, x)\n",
    "plt.show()"
   ]
  },
  {
   "cell_type": "markdown",
   "metadata": {},
   "source": [
    "***\n",
    "## Step-9: Calculate the confusion matrix find the precision, recall, f1score of each classifier algorithm. Explain how the accuracy of prediction can be improved.\n",
    "***"
   ]
  },
  {
   "cell_type": "code",
   "execution_count": 24,
   "metadata": {
    "scrolled": false
   },
   "outputs": [],
   "source": [
    "# creating the confusion matrix for Decision Tree Classifier\n",
    "def create_confusion_metrix(dataframe,algo_name):\n",
    "        \n",
    "    df_rdd = dataframe.select(\"prediction\", \"RainTomorrow_index\").rdd.map(lambda line: (line[1], line[0]))\n",
    "    multiclass_metrics = MulticlassMetrics(df_rdd)\n",
    "\n",
    "    # Confusion Matrix\n",
    "    confusion_matrix=multiclass_metrics.confusionMatrix().toArray()\n",
    "    print(\"The Confusion Matrix of\",algo_name+\":\")\n",
    "    print(confusion_matrix)\n",
    "\n",
    "\n",
    "    # precision\n",
    "    precision=(confusion_matrix[0][0])/(confusion_matrix[0][0]+confusion_matrix[0][1])\n",
    "    # recall\n",
    "    recall=(confusion_matrix[0][0])/(confusion_matrix[0][0]+confusion_matrix[1][0])\n",
    "    #f1score\n",
    "    f1Score = (2*precision*recall)/(precision+recall)\n",
    "\n",
    "    print(\"\\n\")\n",
    "    print(\"Summary Statistics of\",algo_name+\":\")\n",
    "    print(\"Precision = \",precision)\n",
    "    print(\"Recall = \" ,recall)\n",
    "    print(\"F1 Score = \",f1Score)"
   ]
  },
  {
   "cell_type": "markdown",
   "metadata": {},
   "source": [
    "***\n",
    "### Confusion matrix for Decision Tree.\n",
    "***"
   ]
  },
  {
   "cell_type": "code",
   "execution_count": 25,
   "metadata": {
    "scrolled": true
   },
   "outputs": [
    {
     "name": "stdout",
     "output_type": "stream",
     "text": [
      "The Confusion Matrix of Decision Tree:\n",
      "[[31196.  5363.]\n",
      " [ 1630.  4264.]]\n",
      "\n",
      "\n",
      "Summary Statistics of Decision Tree:\n",
      "Precision =  0.8533056155802948\n",
      "Recall =  0.9503442393224882\n",
      "F1 Score =  0.8992145276356561\n"
     ]
    }
   ],
   "source": [
    "# confusion matrix for decision tree\n",
    "create_confusion_metrix(predictions_decisiontree,\"Decision Tree\")"
   ]
  },
  {
   "cell_type": "markdown",
   "metadata": {},
   "source": [
    "***\n",
    "### Confusion matrix for Rainforest classifier.\n",
    "***"
   ]
  },
  {
   "cell_type": "code",
   "execution_count": 26,
   "metadata": {},
   "outputs": [
    {
     "name": "stdout",
     "output_type": "stream",
     "text": [
      "The Confusion Matrix of Rainforest classifier:\n",
      "[[31636.  5873.]\n",
      " [ 1190.  3754.]]\n",
      "\n",
      "\n",
      "Summary Statistics of Rainforest classifier:\n",
      "Precision =  0.8434242448479031\n",
      "Recall =  0.9637482483397307\n",
      "F1 Score =  0.8995805786592734\n"
     ]
    }
   ],
   "source": [
    "# confusion matrix for rainforest\n",
    "create_confusion_metrix(predictions_rainforest,\"Rainforest classifier\")"
   ]
  },
  {
   "cell_type": "markdown",
   "metadata": {},
   "source": [
    "***\n",
    "### Confusion matrix for Logistic Regression.\n",
    "***"
   ]
  },
  {
   "cell_type": "code",
   "execution_count": 27,
   "metadata": {},
   "outputs": [
    {
     "name": "stdout",
     "output_type": "stream",
     "text": [
      "The Confusion Matrix of Logistic Regression:\n",
      "[[32126.  7411.]\n",
      " [  700.  2216.]]\n",
      "\n",
      "\n",
      "Summary Statistics of Logistic Regression:\n",
      "Precision =  0.8125553279206819\n",
      "Recall =  0.9786754401998415\n",
      "F1 Score =  0.8879123308873319\n"
     ]
    }
   ],
   "source": [
    "create_confusion_metrix(predictions_logistic,\"Logistic Regression\")"
   ]
  },
  {
   "cell_type": "markdown",
   "metadata": {},
   "source": [
    "***\n",
    "### Confusion matrix GBTClassifier.\n",
    "***"
   ]
  },
  {
   "cell_type": "code",
   "execution_count": 28,
   "metadata": {},
   "outputs": [
    {
     "name": "stdout",
     "output_type": "stream",
     "text": [
      "The Confusion Matrix of GBTClassifier:\n",
      "[[31209.  5168.]\n",
      " [ 1617.  4459.]]\n",
      "\n",
      "\n",
      "Summary Statistics of GBTClassifier:\n",
      "Precision =  0.857932209912857\n",
      "Recall =  0.950740266861634\n",
      "F1 Score =  0.9019551175527072\n"
     ]
    }
   ],
   "source": [
    "create_confusion_metrix(predictions_gradientboost,\"GBTClassifier\")"
   ]
  },
  {
   "cell_type": "markdown",
   "metadata": {},
   "source": [
    "### Explain how the accuracy of prediction can be improved."
   ]
  },
  {
   "cell_type": "markdown",
   "metadata": {},
   "source": [
    "- **Feature selection:**\n",
    "Initially we have removed some of the columns, like humidity which could be one of the factors affecting the rainfall and further improve the accuracy of the Machine learning algorithms. we could further use the exploratory data anaysis and features selections tools such as correlation matrix,PCA etc to determine the best features for improving the accuracy.\n",
    "- **Ensemble Methods:** \n",
    "It is the machine technique of combining the prediction of the multiple columns. By combining knowledge of muktiple model will give more accurate results. we could use either bagging or bossting ensembler techniques to achieve the higher accuracy.\n",
    "- ***Feature Engineering*** It helps to extract the more inforamation from the data.\n",
    "    - **Feature Transform:** Changing the scale of the variable for the column called as data normalisation or remove the skewness of the variable as some algorithms works well with the normal distributed data.\n",
    "    - **Feature Creation:** Extrating the new variable from the existing one. like from the 'week' variable we could extract the 'day' variable.\n",
    "- **Algorithm Tunning:** ML algorithms are drive by the parameters whose optimal value could gretly influence accurancy. For example in rain forest classifier optimisation of parameters like 'number_trees','random_state','max_feature' could helps in achieve greater accuracy."
   ]
  },
  {
   "cell_type": "markdown",
   "metadata": {},
   "source": [
    "# References:\n",
    "\n",
    "1.  https://spark.apache.org/docs/2.0.0/api/python/pyspark.mllib.html \n",
    "\n",
    "2.  https://stackoverflow.com/questions/44627386/how-to-find-count-of-null-and-nan-values-for-each-column-in-a-pyspark-dataframe \n",
    "\n",
    "3. https://stackoverflow.com/questions/46956026/how-to-convert-column-with-string-type-to-int-form-in-pyspark-data-frame \n",
    "\n"
   ]
  },
  {
   "cell_type": "code",
   "execution_count": null,
   "metadata": {},
   "outputs": [],
   "source": []
  }
 ],
 "metadata": {
  "kernelspec": {
   "display_name": "Python 3",
   "language": "python",
   "name": "python3"
  },
  "language_info": {
   "codemirror_mode": {
    "name": "ipython",
    "version": 3
   },
   "file_extension": ".py",
   "mimetype": "text/x-python",
   "name": "python",
   "nbconvert_exporter": "python",
   "pygments_lexer": "ipython3",
   "version": "3.6.8"
  }
 },
 "nbformat": 4,
 "nbformat_minor": 2
}
